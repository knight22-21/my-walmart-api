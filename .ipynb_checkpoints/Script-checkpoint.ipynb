{
 "cells": [
  {
   "cell_type": "code",
   "execution_count": 7,
   "id": "1a516c8b-f156-4616-98e8-bb7c929dab47",
   "metadata": {},
   "outputs": [],
   "source": [
    "import pandas as pd\n",
    "import numpy as np\n",
    "import joblib\n",
    "from sklearn.model_selection import train_test_split\n",
    "from sklearn.preprocessing import OrdinalEncoder, MinMaxScaler\n",
    "from sklearn.metrics import classification_report, accuracy_score\n",
    "from sklearn.ensemble import VotingClassifier\n",
    "from catboost import CatBoostClassifier\n",
    "from xgboost import XGBClassifier\n",
    "from lightgbm import LGBMClassifier\n",
    "import matplotlib.pyplot as plt\n",
    "from sklearn.metrics import accuracy_score, classification_report"
   ]
  },
  {
   "cell_type": "markdown",
   "id": "17c5f38f-cd2a-468b-9a3c-6f30c89e0a9f",
   "metadata": {},
   "source": [
    "## Load & Prepare Training Data"
   ]
  },
  {
   "cell_type": "code",
   "execution_count": null,
   "id": "aad903bf-45dc-4a2f-b4a4-749ffa0721c2",
   "metadata": {},
   "outputs": [],
   "source": [
    "df = pd.read_csv('train.csv')"
   ]
  },
  {
   "cell_type": "code",
   "execution_count": null,
   "id": "79d02af5-b5fa-4447-a757-8e1e7302a67f",
   "metadata": {},
   "outputs": [],
   "source": [
    "# Select only the required base columns\n",
    "base_cols = [\n",
    "    \"user_id\", \"total_orders\", \"total_returns\", \"days_to_return_avg\",\n",
    "    \"high_value_returns\", \"category_return_ratio\", \"exchange_ratio\", \"damaged_returns\"\n",
    "]"
   ]
  },
  {
   "cell_type": "code",
   "execution_count": null,
   "id": "6ae74306-b325-453b-939c-cdd95e5b485e",
   "metadata": {},
   "outputs": [],
   "source": [
    "df = df[base_cols + ['label']].copy()\n",
    "df['user_id'] = df['user_id'].astype(str).str[-5:]\n",
    "df['label'] = df['label'].astype(int)"
   ]
  },
  {
   "cell_type": "markdown",
   "id": "ad4d0a81-65ea-41b4-b009-023b711db57e",
   "metadata": {},
   "source": [
    "## Feature Engineering"
   ]
  },
  {
   "cell_type": "code",
   "execution_count": null,
   "id": "da11c0e0-9ed1-4fb3-a344-64e5af3f40d9",
   "metadata": {},
   "outputs": [],
   "source": [
    "df['return_rate'] = df['total_returns'] / (df['total_orders'] + 1e-5)\n",
    "df['fast_return_flag'] = (df['days_to_return_avg'] < 3).astype(int)"
   ]
  },
  {
   "cell_type": "code",
   "execution_count": null,
   "id": "cdf8b7b1-e3a3-4e72-84ba-32bb771a2de8",
   "metadata": {},
   "outputs": [],
   "source": [
    "# Drop leaky features\n",
    "df.drop(columns=['user_id', 'high_value_returns', 'damaged_returns'], inplace=True, errors='ignore')"
   ]
  },
  {
   "cell_type": "code",
   "execution_count": null,
   "id": "3b5baf1a-63c6-4e74-9198-62602b1db7a2",
   "metadata": {},
   "outputs": [],
   "source": [
    "# Encode categoricals \n",
    "cat_cols = ['location', 'device_fingerprint']\n",
    "cat_cols = [col for col in cat_cols if col in df.columns]  # Handle absence\n",
    "ordinal_encoder = OrdinalEncoder(handle_unknown='use_encoded_value', unknown_value=-1)\n",
    "if cat_cols:\n",
    "    df[cat_cols] = ordinal_encoder.fit_transform(df[cat_cols])\n",
    "    joblib.dump(ordinal_encoder, 'ordinal_encoder.pkl')"
   ]
  },
  {
   "cell_type": "code",
   "execution_count": null,
   "id": "d608d7c2-10a6-46e8-895a-02a9f131ca93",
   "metadata": {},
   "outputs": [],
   "source": [
    "# Define features and target\n",
    "X = df.drop(columns=['label'])\n",
    "y = df['label']\n"
   ]
  },
  {
   "cell_type": "code",
   "execution_count": null,
   "id": "f71370ad-f2e2-4d85-aa48-ec741eabec17",
   "metadata": {},
   "outputs": [],
   "source": [
    "joblib.dump(X.columns.tolist(), 'feature_columns.pkl')"
   ]
  },
  {
   "cell_type": "code",
   "execution_count": null,
   "id": "127f60d1-b08a-46f0-821d-bfe86ff74d99",
   "metadata": {},
   "outputs": [],
   "source": [
    "# Scale features\n",
    "scaler = MinMaxScaler()\n",
    "X_scaled = scaler.fit_transform(X)\n",
    "joblib.dump(scaler, 'scaler.pkl')"
   ]
  },
  {
   "cell_type": "markdown",
   "id": "0497e17f-8df9-43f4-9f5b-f5da8b44d805",
   "metadata": {},
   "source": [
    "## Train/test split"
   ]
  },
  {
   "cell_type": "code",
   "execution_count": null,
   "id": "f570477b-7507-47e3-bbce-9003dcbf0d6f",
   "metadata": {},
   "outputs": [],
   "source": [
    "X_train, X_test, y_train, y_test = train_test_split(\n",
    "    X_scaled, y, test_size=0.2, stratify=y, random_state=42\n",
    ")"
   ]
  },
  {
   "cell_type": "markdown",
   "id": "a06f4cb4-6d63-4e6c-9105-bd9e407a32de",
   "metadata": {},
   "source": [
    "## Training"
   ]
  },
  {
   "cell_type": "code",
   "execution_count": null,
   "id": "4a6dea38-2d5a-4fdc-b19f-529bd6cfd3c7",
   "metadata": {},
   "outputs": [],
   "source": [
    "cat = CatBoostClassifier(verbose=0)\n",
    "xgb = XGBClassifier(use_label_encoder=False, eval_metric='logloss')\n",
    "lgb = LGBMClassifier()\n",
    "\n",
    "cat.fit(X_train, y_train)\n",
    "xgb.fit(X_train, y_train)\n",
    "lgb.fit(X_train, y_train)\n",
    "\n",
    "joblib.dump(cat, 'catboost_model.pkl')\n",
    "joblib.dump(xgb, 'xgboost_model.pkl')\n",
    "joblib.dump(lgb, 'lightgbm_model.pkl')"
   ]
  },
  {
   "cell_type": "code",
   "execution_count": null,
   "id": "12829d65-4a97-483e-a8e5-177232b17ebd",
   "metadata": {},
   "outputs": [],
   "source": [
    "# Evaluate models\n",
    "for name, model in zip(['CatBoost', 'XGBoost', 'LightGBM'], [cat, xgb, lgb]):\n",
    "    preds = model.predict(X_test)\n",
    "    print(f\"\\n{name} Accuracy: {accuracy_score(y_test, preds):.4f}\")\n",
    "    print(f\"{name} Classification Report:\\n{classification_report(y_test, preds)}\")\n"
   ]
  },
  {
   "cell_type": "code",
   "execution_count": null,
   "id": "f1b15636-b34e-42d9-b72a-b7faf95c12d4",
   "metadata": {},
   "outputs": [],
   "source": [
    "# Voting Ensemble \n",
    "ensemble = VotingClassifier(\n",
    "    estimators=[('cat', cat), ('xgb', xgb), ('lgb', lgb)],\n",
    "    voting='soft'\n",
    ")\n",
    "ensemble.fit(X_train, y_train)\n",
    "joblib.dump(ensemble, 'voting_ensemble_model.pkl')"
   ]
  },
  {
   "cell_type": "code",
   "execution_count": null,
   "id": "ccd31df7-54a2-47af-b982-ac44b78a0c02",
   "metadata": {},
   "outputs": [],
   "source": [
    "# Evaluate ensemble\n",
    "ensemble_preds = ensemble.predict(X_test)\n",
    "print(f\"\\n🧠 Voting Ensemble Accuracy: {accuracy_score(y_test, ensemble_preds):.4f}\")\n",
    "print(f\"Voting Ensemble Classification Report:\\n{classification_report(y_test, ensemble_preds)}\")\n"
   ]
  },
  {
   "cell_type": "markdown",
   "id": "a420f887-4d79-4732-8c06-277ca2f4abb5",
   "metadata": {},
   "source": [
    "## Load & Prepare Test Data"
   ]
  },
  {
   "cell_type": "code",
   "execution_count": 9,
   "id": "d9d32564-880b-4814-bc57-7174941db8bc",
   "metadata": {},
   "outputs": [],
   "source": [
    "test_df = pd.read_csv(\"test.csv\")"
   ]
  },
  {
   "cell_type": "code",
   "execution_count": null,
   "id": "3d58de77-4b02-47dc-a3d6-3c67f3442dae",
   "metadata": {},
   "outputs": [],
   "source": [
    "# Same process\n",
    "base_cols = [\n",
    "    \"user_id\", \"total_orders\", \"total_returns\", \"days_to_return_avg\",\n",
    "    \"high_value_returns\", \"category_return_ratio\", \"exchange_ratio\", \"damaged_returns\"\n",
    "]\n",
    "test_df = test_df[base_cols + (['label'] if 'label' in test_df.columns else [])].copy()\n",
    "test_df['user_id'] = test_df['user_id'].astype(str).str[-5:]\n",
    "\n",
    "test_df['return_rate'] = test_df['total_returns'] / (test_df['total_orders'] + 1e-5)\n",
    "test_df['fast_return_flag'] = (test_df['days_to_return_avg'] < 3).astype(int)\n",
    "\n",
    "# Save user IDs\n",
    "user_ids = test_df['user_id']\n",
    "\n",
    "test_df.drop(columns=['user_id', 'high_value_returns', 'damaged_returns'], inplace=True, errors='ignore')\n",
    "\n",
    "cat_cols = ['location', 'device_fingerprint']\n",
    "cat_cols = [col for col in cat_cols if col in test_df.columns]\n",
    "if cat_cols:\n",
    "    ordinal_encoder = joblib.load('ordinal_encoder.pkl')\n",
    "    test_df[cat_cols] = ordinal_encoder.transform(test_df[cat_cols])\n",
    "\n",
    "has_label = 'label' in test_df.columns\n",
    "if has_label:\n",
    "    y_test_true = test_df['label'].astype(int)\n",
    "\n",
    "X_test_raw = test_df.drop(columns=['label'], errors='ignore')\n",
    "\n",
    "expected_cols = joblib.load(\"feature_columns.pkl\")\n",
    "\n",
    "for col in expected_cols:\n",
    "    if col not in X_test_raw.columns:\n",
    "        X_test_raw[col] = 0\n",
    "\n",
    "X_test_raw = X_test_raw[expected_cols]\n",
    "\n",
    "scaler = joblib.load('scaler.pkl')\n",
    "X_test_scaled = scaler.transform(X_test_raw)\n"
   ]
  },
  {
   "cell_type": "code",
   "execution_count": null,
   "id": "deb4b2da-28bf-4955-ba81-fcf998191b51",
   "metadata": {},
   "outputs": [],
   "source": [
    "ensemble = joblib.load('voting_ensemble_model.pkl')\n",
    "\n",
    "# Predict\n",
    "preds = ensemble.predict(X_test_scaled)"
   ]
  },
  {
   "cell_type": "code",
   "execution_count": null,
   "id": "3fdfd987-eff5-47bd-8bf6-b7e58fcf90ad",
   "metadata": {},
   "outputs": [],
   "source": [
    "# Evaluate\n",
    "if has_label:\n",
    "    acc = accuracy_score(y_test_true, preds)\n",
    "    print(f\"\\n Ensemble Accuracy on test.csv: {acc:.4f}\")\n",
    "    print(f\"Classification Report:\\n{classification_report(y_test_true, preds)}\")\n",
    "\n",
    "results_df = pd.DataFrame({\n",
    "    'user_id': user_ids,\n",
    "    'prediction': preds\n",
    "})\n",
    "\n",
    "if has_label:\n",
    "    results_df['True_Label'] = y_test_true\n",
    "\n",
    "print(\"\\n Sample Predictions:\")\n",
    "print(results_df.head(10))"
   ]
  },
  {
   "cell_type": "code",
   "execution_count": null,
   "id": "5ae75f3d-d727-4216-b414-f45bb43f55a5",
   "metadata": {},
   "outputs": [],
   "source": []
  }
 ],
 "metadata": {
  "kernelspec": {
   "display_name": "Python [conda env:base] *",
   "language": "python",
   "name": "conda-base-py"
  },
  "language_info": {
   "codemirror_mode": {
    "name": "ipython",
    "version": 3
   },
   "file_extension": ".py",
   "mimetype": "text/x-python",
   "name": "python",
   "nbconvert_exporter": "python",
   "pygments_lexer": "ipython3",
   "version": "3.11.11"
  }
 },
 "nbformat": 4,
 "nbformat_minor": 5
}
